{
  "nbformat": 4,
  "nbformat_minor": 0,
  "metadata": {
    "colab": {
      "provenance": [],
      "authorship_tag": "ABX9TyP5HjEgkzm2kKs8x1xz98HP",
      "include_colab_link": true
    },
    "kernelspec": {
      "name": "python3",
      "display_name": "Python 3"
    },
    "language_info": {
      "name": "python"
    }
  },
  "cells": [
    {
      "cell_type": "markdown",
      "metadata": {
        "id": "view-in-github",
        "colab_type": "text"
      },
      "source": [
        "<a href=\"https://colab.research.google.com/github/AyA-EhaB/FEDIS_Tasks/blob/main/PS_Syntax_Refresh.ipynb\" target=\"_parent\"><img src=\"https://colab.research.google.com/assets/colab-badge.svg\" alt=\"Open In Colab\"/></a>"
      ]
    },
    {
      "cell_type": "markdown",
      "source": [
        "# Refresh"
      ],
      "metadata": {
        "id": "VNci4MhHMpF5"
      }
    },
    {
      "cell_type": "code",
      "source": [
        "# int\n",
        "x = 5\n",
        "# float\n",
        "y = 3.14\n",
        "#string\n",
        "name  = \"Aya\"\n",
        "# boolean\n",
        "valid = True\n"
      ],
      "metadata": {
        "id": "I1oPkg0sMtXK"
      },
      "execution_count": null,
      "outputs": []
    },
    {
      "cell_type": "code",
      "source": [
        "arr = [1,2,3]\n",
        "arr.append(4)\n",
        "print(arr)"
      ],
      "metadata": {
        "colab": {
          "base_uri": "https://localhost:8080/"
        },
        "id": "tMr_pW9qNrx7",
        "outputId": "0d8d886a-96b4-4e85-d0ce-539deef32fec"
      },
      "execution_count": null,
      "outputs": [
        {
          "output_type": "stream",
          "name": "stdout",
          "text": [
            "[1, 2, 3, 4]\n"
          ]
        }
      ]
    },
    {
      "cell_type": "code",
      "source": [
        "arr[::-1]"
      ],
      "metadata": {
        "colab": {
          "base_uri": "https://localhost:8080/"
        },
        "id": "bKq_z-uJN1G1",
        "outputId": "edb3ce64-df9c-41d9-ddbc-00caf7525a98"
      },
      "execution_count": null,
      "outputs": [
        {
          "output_type": "execute_result",
          "data": {
            "text/plain": [
              "[4, 3, 2, 1]"
            ]
          },
          "metadata": {},
          "execution_count": 4
        }
      ]
    },
    {
      "cell_type": "code",
      "source": [
        "arr.pop() # remove last"
      ],
      "metadata": {
        "colab": {
          "base_uri": "https://localhost:8080/"
        },
        "id": "XdIEUyHHN5cU",
        "outputId": "5a51a91f-6f41-403a-9a09-ebbe54188822"
      },
      "execution_count": null,
      "outputs": [
        {
          "output_type": "execute_result",
          "data": {
            "text/plain": [
              "4"
            ]
          },
          "metadata": {},
          "execution_count": 5
        }
      ]
    },
    {
      "cell_type": "code",
      "source": [
        "arr"
      ],
      "metadata": {
        "colab": {
          "base_uri": "https://localhost:8080/"
        },
        "id": "DemDZIpnN9M-",
        "outputId": "74cdc56f-ebe4-48d0-d483-62d76cd56bb4"
      },
      "execution_count": null,
      "outputs": [
        {
          "output_type": "execute_result",
          "data": {
            "text/plain": [
              "[1, 2, 3]"
            ]
          },
          "metadata": {},
          "execution_count": 6
        }
      ]
    },
    {
      "cell_type": "code",
      "source": [
        "s = \"Now What!\"\n",
        "s"
      ],
      "metadata": {
        "colab": {
          "base_uri": "https://localhost:8080/",
          "height": 36
        },
        "id": "qH7Zq5chOCB0",
        "outputId": "84eeb83b-2e0d-4362-b0f1-3b45504fdf3a"
      },
      "execution_count": null,
      "outputs": [
        {
          "output_type": "execute_result",
          "data": {
            "text/plain": [
              "'Now What!'"
            ],
            "application/vnd.google.colaboratory.intrinsic+json": {
              "type": "string"
            }
          },
          "metadata": {},
          "execution_count": 7
        }
      ]
    },
    {
      "cell_type": "code",
      "source": [
        "s[::-1]"
      ],
      "metadata": {
        "colab": {
          "base_uri": "https://localhost:8080/",
          "height": 36
        },
        "id": "S2fIOmFwOO6y",
        "outputId": "ae3c49ac-77b5-4991-cac5-554a0bcfe162"
      },
      "execution_count": null,
      "outputs": [
        {
          "output_type": "execute_result",
          "data": {
            "text/plain": [
              "'!tahW woN'"
            ],
            "application/vnd.google.colaboratory.intrinsic+json": {
              "type": "string"
            }
          },
          "metadata": {},
          "execution_count": 8
        }
      ]
    },
    {
      "cell_type": "code",
      "source": [
        "s"
      ],
      "metadata": {
        "colab": {
          "base_uri": "https://localhost:8080/",
          "height": 36
        },
        "id": "WWu3sPqSOVFS",
        "outputId": "c3bd9d0e-d430-4879-edaf-65533a8c335e"
      },
      "execution_count": null,
      "outputs": [
        {
          "output_type": "execute_result",
          "data": {
            "text/plain": [
              "'Now What!'"
            ],
            "application/vnd.google.colaboratory.intrinsic+json": {
              "type": "string"
            }
          },
          "metadata": {},
          "execution_count": 9
        }
      ]
    },
    {
      "cell_type": "code",
      "source": [
        "d = {\"a\":1, \"b\":2}\n",
        "d.get(\"c\",0)\n",
        "'''\n",
        "Look for the key \"c\" in the dictionary d.\n",
        "\n",
        "If \"c\" exists → return its value.\n",
        "\n",
        "If \"c\" doesn’t exist → return the second argument (0) instead of giving an error.\n",
        "'''"
      ],
      "metadata": {
        "colab": {
          "base_uri": "https://localhost:8080/"
        },
        "id": "hBh0BdBwOb_b",
        "outputId": "ce37c623-598d-43ab-c95a-6e0c512a9bc5"
      },
      "execution_count": null,
      "outputs": [
        {
          "output_type": "execute_result",
          "data": {
            "text/plain": [
              "0"
            ]
          },
          "metadata": {},
          "execution_count": 10
        }
      ]
    },
    {
      "cell_type": "code",
      "source": [
        "d.get(\"b\")"
      ],
      "metadata": {
        "colab": {
          "base_uri": "https://localhost:8080/"
        },
        "id": "sbQS2emhQUNX",
        "outputId": "9d1934a2-92d1-4d0e-abae-45e8fdbb0e0c"
      },
      "execution_count": null,
      "outputs": [
        {
          "output_type": "execute_result",
          "data": {
            "text/plain": [
              "2"
            ]
          },
          "metadata": {},
          "execution_count": 11
        }
      ]
    },
    {
      "cell_type": "code",
      "source": [
        "s = {1,2,3}\n",
        "s.add(4)\n",
        "s"
      ],
      "metadata": {
        "colab": {
          "base_uri": "https://localhost:8080/"
        },
        "id": "m-2o8lZYQZwv",
        "outputId": "48bd341d-f0bf-4194-b6a9-1637c555647d"
      },
      "execution_count": null,
      "outputs": [
        {
          "output_type": "execute_result",
          "data": {
            "text/plain": [
              "{1, 2, 3, 4}"
            ]
          },
          "metadata": {},
          "execution_count": 12
        }
      ]
    },
    {
      "cell_type": "code",
      "source": [
        "# Multi-line String\n",
        "m = \"\"\"line\n",
        "line here\"\"\"\n",
        "m"
      ],
      "metadata": {
        "colab": {
          "base_uri": "https://localhost:8080/",
          "height": 36
        },
        "id": "MeyLl7eaQrvJ",
        "outputId": "4d8597fc-050b-4dbb-c3d9-d9bab07837b9"
      },
      "execution_count": null,
      "outputs": [
        {
          "output_type": "execute_result",
          "data": {
            "text/plain": [
              "'line\\nline here'"
            ],
            "application/vnd.google.colaboratory.intrinsic+json": {
              "type": "string"
            }
          },
          "metadata": {},
          "execution_count": 14
        }
      ]
    },
    {
      "cell_type": "code",
      "source": [
        "s = \"Hello\"\n",
        "s.isalpha()"
      ],
      "metadata": {
        "colab": {
          "base_uri": "https://localhost:8080/"
        },
        "id": "qGvswD9kS48H",
        "outputId": "5f339140-a3ae-47ef-cf3a-75fecbe4ea14"
      },
      "execution_count": null,
      "outputs": [
        {
          "output_type": "execute_result",
          "data": {
            "text/plain": [
              "True"
            ]
          },
          "metadata": {},
          "execution_count": 15
        }
      ]
    },
    {
      "cell_type": "code",
      "source": [
        "s.isdigit()"
      ],
      "metadata": {
        "colab": {
          "base_uri": "https://localhost:8080/"
        },
        "id": "g1B_PcMFS-k3",
        "outputId": "0ef92c65-8016-4423-9b60-872d6144a837"
      },
      "execution_count": null,
      "outputs": [
        {
          "output_type": "execute_result",
          "data": {
            "text/plain": [
              "False"
            ]
          },
          "metadata": {},
          "execution_count": 16
        }
      ]
    },
    {
      "cell_type": "code",
      "source": [
        "\" \".join([\"Aya\",\"Ehab\"])"
      ],
      "metadata": {
        "colab": {
          "base_uri": "https://localhost:8080/",
          "height": 36
        },
        "id": "LvHilSa3TB5m",
        "outputId": "753a8c3b-428b-4dc7-8c36-362619acb768"
      },
      "execution_count": 7,
      "outputs": [
        {
          "output_type": "execute_result",
          "data": {
            "text/plain": [
              "'Aya Ehab'"
            ],
            "application/vnd.google.colaboratory.intrinsic+json": {
              "type": "string"
            }
          },
          "metadata": {},
          "execution_count": 7
        }
      ]
    },
    {
      "cell_type": "code",
      "source": [
        "#sets\n",
        "s = {1,2,3}\n",
        "s"
      ],
      "metadata": {
        "colab": {
          "base_uri": "https://localhost:8080/"
        },
        "id": "UbmnbdCUaYTy",
        "outputId": "f914a608-a11e-4acc-e43a-11ff3d78545b"
      },
      "execution_count": 1,
      "outputs": [
        {
          "output_type": "execute_result",
          "data": {
            "text/plain": [
              "{1, 2, 3}"
            ]
          },
          "metadata": {},
          "execution_count": 1
        }
      ]
    },
    {
      "cell_type": "code",
      "source": [
        "s.add(5)"
      ],
      "metadata": {
        "id": "eic0xwsVae75"
      },
      "execution_count": 2,
      "outputs": []
    },
    {
      "cell_type": "code",
      "source": [
        "s"
      ],
      "metadata": {
        "colab": {
          "base_uri": "https://localhost:8080/"
        },
        "id": "Or5ryi9aahKZ",
        "outputId": "c7e6d240-ee74-4633-d7c8-8cc7caea4d1a"
      },
      "execution_count": 3,
      "outputs": [
        {
          "output_type": "execute_result",
          "data": {
            "text/plain": [
              "{1, 2, 3, 5}"
            ]
          },
          "metadata": {},
          "execution_count": 3
        }
      ]
    },
    {
      "cell_type": "code",
      "source": [
        "ll = [1,2,3]\n",
        "list_to_set = set(ll)\n",
        "list_to_set"
      ],
      "metadata": {
        "colab": {
          "base_uri": "https://localhost:8080/"
        },
        "id": "4JFv_YK6akpS",
        "outputId": "2ac2fb73-efbd-431b-ba67-acfa8ba86a14"
      },
      "execution_count": 4,
      "outputs": [
        {
          "output_type": "execute_result",
          "data": {
            "text/plain": [
              "{1, 2, 3}"
            ]
          },
          "metadata": {},
          "execution_count": 4
        }
      ]
    },
    {
      "cell_type": "code",
      "source": [
        "list_to_set.add(4)\n",
        "print(list_to_set)"
      ],
      "metadata": {
        "colab": {
          "base_uri": "https://localhost:8080/"
        },
        "id": "h0RGYzfna7Wa",
        "outputId": "09e7e0f4-c330-436a-e77e-8e370aeadb5a"
      },
      "execution_count": 6,
      "outputs": [
        {
          "output_type": "stream",
          "name": "stdout",
          "text": [
            "{1, 2, 3, 4}\n"
          ]
        }
      ]
    },
    {
      "cell_type": "code",
      "source": [
        "# lists\n",
        "# Sorting\n",
        "# Sorting\n",
        "num = [2,5,4,9,6,1,9,4,6]\n",
        "num.sort()\n",
        "print(num)"
      ],
      "metadata": {
        "colab": {
          "base_uri": "https://localhost:8080/"
        },
        "id": "YT3dcmYmbJe5",
        "outputId": "f452fcb7-d6b9-4238-dcec-f8c7c7dc8e84"
      },
      "execution_count": 14,
      "outputs": [
        {
          "output_type": "stream",
          "name": "stdout",
          "text": [
            "[1, 2, 4, 4, 5, 6, 6, 9, 9]\n"
          ]
        }
      ]
    },
    {
      "cell_type": "code",
      "source": [
        "num2 = [2,5,4,9,6,1,9,4,6]\n",
        "sorted(num2) ## returns new sorted list\n",
        "print(num2)"
      ],
      "metadata": {
        "colab": {
          "base_uri": "https://localhost:8080/"
        },
        "id": "W2SRzGZtg2v_",
        "outputId": "751b95a0-4504-432a-e989-32a836966135"
      },
      "execution_count": 15,
      "outputs": [
        {
          "output_type": "stream",
          "name": "stdout",
          "text": [
            "[2, 5, 4, 9, 6, 1, 9, 4, 6]\n"
          ]
        }
      ]
    },
    {
      "cell_type": "code",
      "source": [
        "print(sorted(num2))"
      ],
      "metadata": {
        "colab": {
          "base_uri": "https://localhost:8080/"
        },
        "id": "nLrOBCB5g9Z2",
        "outputId": "27295850-8513-4dbb-8631-76e916a66470"
      },
      "execution_count": 16,
      "outputs": [
        {
          "output_type": "stream",
          "name": "stdout",
          "text": [
            "[1, 2, 4, 4, 5, 6, 6, 9, 9]\n"
          ]
        }
      ]
    },
    {
      "cell_type": "markdown",
      "source": [
        "💡**self** → the first parameter in any method inside a class. It refers to the instance of the class."
      ],
      "metadata": {
        "id": "GUolXi5igwj_"
      }
    },
    {
      "cell_type": "code",
      "source": [
        "# classes\n",
        "class Sol:\n",
        "  def Method(self, x):\n",
        "\n",
        "    return x+1\n",
        "sol = Sol()\n",
        "print(sol.Method(1))"
      ],
      "metadata": {
        "colab": {
          "base_uri": "https://localhost:8080/"
        },
        "id": "bHle6E74T1iH",
        "outputId": "5614b649-d899-4372-91ac-ff7c7a1c79f5"
      },
      "execution_count": null,
      "outputs": [
        {
          "output_type": "stream",
          "name": "stdout",
          "text": [
            "2\n"
          ]
        }
      ]
    },
    {
      "cell_type": "markdown",
      "source": [
        "https://leetcode.com/problems/longest-substring-without-repeating-characters/description/"
      ],
      "metadata": {
        "id": "pC8Ng9gtfv8g"
      }
    },
    {
      "cell_type": "markdown",
      "source": [
        "Input: s = \"abcabcbb\"\n",
        "\n",
        "Output: 3\n",
        "\n",
        "Explanation: The answer is \"abc\", with the length of 3."
      ],
      "metadata": {
        "id": "FRQSIJh6GAtA"
      }
    },
    {
      "cell_type": "code",
      "source": [
        "class Solution(object):\n",
        "    def lengthOfLongestSubstring(self, s):\n",
        "       max_l =0\n",
        "       left = 0\n",
        "       unique = set()\n",
        "       for right in range(len(s)):\n",
        "           while s[right] in unique and left < len(s):\n",
        "               unique.remove(s[left])\n",
        "               left +=1\n",
        "           unique.add(s[right])\n",
        "           max_l = max(max_l ,right-left +1)\n",
        "\n",
        "       return max_l\n",
        "\n",
        "sol = Solution()\n",
        "print(sol.lengthOfLongestSubstring(\"pwwkew\"))"
      ],
      "metadata": {
        "id": "f_I9ZkLgiCnW",
        "colab": {
          "base_uri": "https://localhost:8080/"
        },
        "outputId": "f868d29c-53d9-4bf0-a381-1854b857aa78"
      },
      "execution_count": 13,
      "outputs": [
        {
          "output_type": "stream",
          "name": "stdout",
          "text": [
            "3\n"
          ]
        }
      ]
    },
    {
      "cell_type": "markdown",
      "source": [
        "https://leetcode.com/problems/two-sum-ii-input-array-is-sorted/description/"
      ],
      "metadata": {
        "id": "P_Z2yXjOf_Tw"
      }
    },
    {
      "cell_type": "code",
      "source": [
        "class Solution(object):\n",
        "    def twoSum(self, numbers, target):\n",
        "       left = 0\n",
        "       right = len(numbers)-1\n",
        "       while left < right:\n",
        "        if numbers[left]+numbers[right] ==target:\n",
        "           return [left+1,right+1]\n",
        "        # as the array is sorted ascendingly\n",
        "        elif numbers[left]+numbers[right]> target:\n",
        "           right -=1\n",
        "        else:\n",
        "          left+=1\n",
        "\n",
        "sol = Solution()\n",
        "print(sol.twoSum([2,3,4],6))\n",
        "\n",
        "\n"
      ],
      "metadata": {
        "colab": {
          "base_uri": "https://localhost:8080/"
        },
        "id": "CW9NeQDif-vf",
        "outputId": "2f840678-d1a5-4d11-d76f-a1d8b687ce60"
      },
      "execution_count": 20,
      "outputs": [
        {
          "output_type": "stream",
          "name": "stdout",
          "text": [
            "[1, 3]\n"
          ]
        }
      ]
    },
    {
      "cell_type": "markdown",
      "source": [
        "https://leetcode.com/problems/reverse-words-in-a-string/description/"
      ],
      "metadata": {
        "id": "Feyk7-_9k_kd"
      }
    },
    {
      "cell_type": "code",
      "source": [
        "class Solution(object):\n",
        "    def reverseWords(self, s):\n",
        "       words = s.split()\n",
        "       left = 0\n",
        "       right = len(words) - 1\n",
        "       while left <right :\n",
        "          words[left],words[right] = words[right], words[left]\n",
        "          left+=1\n",
        "          right-=1\n",
        "       return \" \".join(words)\n",
        "sol = Solution()\n",
        "print(sol.reverseWords(\"the sky is blue\"))"
      ],
      "metadata": {
        "colab": {
          "base_uri": "https://localhost:8080/"
        },
        "id": "vDX1klzyjHv5",
        "outputId": "e01cfa54-a17c-4251-9a9d-0b611815caea"
      },
      "execution_count": 24,
      "outputs": [
        {
          "output_type": "stream",
          "name": "stdout",
          "text": [
            "blue is sky the\n"
          ]
        }
      ]
    }
  ]
}