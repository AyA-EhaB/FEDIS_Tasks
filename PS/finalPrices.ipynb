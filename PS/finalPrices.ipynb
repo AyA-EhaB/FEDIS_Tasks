{
  "nbformat": 4,
  "nbformat_minor": 0,
  "metadata": {
    "colab": {
      "provenance": [],
      "authorship_tag": "ABX9TyNuA7AnD/cDARm0AQaYKGCW",
      "include_colab_link": true
    },
    "kernelspec": {
      "name": "python3",
      "display_name": "Python 3"
    },
    "language_info": {
      "name": "python"
    }
  },
  "cells": [
    {
      "cell_type": "markdown",
      "metadata": {
        "id": "view-in-github",
        "colab_type": "text"
      },
      "source": [
        "<a href=\"https://colab.research.google.com/github/AyA-EhaB/FEDIS_Tasks/blob/main/finalPrices.ipynb\" target=\"_parent\"><img src=\"https://colab.research.google.com/assets/colab-badge.svg\" alt=\"Open In Colab\"/></a>"
      ]
    },
    {
      "cell_type": "markdown",
      "source": [
        "https://leetcode.com/problems/final-prices-with-a-special-discount-in-a-shop/description/\n"
      ],
      "metadata": {
        "id": "DADya6uHNRpn"
      }
    },
    {
      "cell_type": "code",
      "execution_count": 18,
      "metadata": {
        "id": "CiccDYUTMa28"
      },
      "outputs": [],
      "source": [
        "class Solution(object):\n",
        "    def finalPrices(self, prices):\n",
        "        l = len(prices)\n",
        "        discounts = []\n",
        "        for i in range(l):\n",
        "          flag = False\n",
        "          for j in range(i+1,l):\n",
        "            if prices[j]<=prices[i]:\n",
        "                discounts.append(prices[i]-prices[j])\n",
        "                flag = True\n",
        "                break\n",
        "          if flag ==False:\n",
        "            discounts.append(prices[i])\n",
        "\n",
        "\n",
        "        return discounts\n",
        ""
      ]
    },
    {
      "cell_type": "code",
      "source": [
        "Sol = Solution()\n",
        "\n",
        "print(Sol.finalPrices([8,4,6,2,3]))"
      ],
      "metadata": {
        "colab": {
          "base_uri": "https://localhost:8080/"
        },
        "id": "HtJJT0MsOS8T",
        "outputId": "63d361ae-f0cf-47ad-932e-656cf419470a"
      },
      "execution_count": 19,
      "outputs": [
        {
          "output_type": "stream",
          "name": "stdout",
          "text": [
            "[4, 2, 4, 2, 3]\n"
          ]
        }
      ]
    }
  ]
}
